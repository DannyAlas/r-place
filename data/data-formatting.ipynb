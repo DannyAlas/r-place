{
 "cells": [
  {
   "cell_type": "markdown",
   "metadata": {},
   "source": [
    "<h1>Combine csv's<h1>"
   ]
  },
  {
   "cell_type": "markdown",
   "metadata": {},
   "source": [
    "#### If you have multiple csv's use this to combine them"
   ]
  },
  {
   "cell_type": "code",
   "execution_count": null,
   "metadata": {},
   "outputs": [],
   "source": [
    "import os\n",
    "import pandas as pd\n",
    "\n",
    "dirpath = \"D:\\\\temp\" # input path to the folder of your csv's\n",
    "\n",
    "df = pd.concat([pd.read_csv(os.path.join(dirpath, fname),compression =\"gzip\")\n",
    "                for fname in os.listdir(dirpath)], ignore_index=True)\n",
    "\n",
    "df.to_csv(\"D:\\\\temp\") # where you'd like to output"
   ]
  },
  {
   "cell_type": "markdown",
   "metadata": {},
   "source": [
    "<h2>Change timestamp to millisecond<h2>"
   ]
  },
  {
   "cell_type": "code",
   "execution_count": null,
   "metadata": {},
   "outputs": [],
   "source": [
    "from datetime import datetime\n",
    "\n",
    "startTime = 1648806250315\n",
    "\n",
    "def formatTimestamp(timestamp):\n",
    "\n",
    "    date_format = \"%Y-%m-%d %H:%M:%S.%f\"\n",
    "    try:\n",
    "        timestamp = datetime.strptime(timestamp[:-4], date_format).timestamp() #timezone removal\n",
    "\n",
    "    except ValueError:\n",
    "        timestamp = datetime.strptime(timestamp[:-4], date_format[:-3]).timestamp() #time zone removal if no timestamp decimal\n",
    "\n",
    "    timestamp *= 1000.0\n",
    "    timestamp = int(timestamp)\n",
    "\n",
    "    timestamp -= startTime\n",
    "    return timestamp"
   ]
  },
  {
   "cell_type": "markdown",
   "metadata": {},
   "source": [
    "<h2>Convert Colors to Key-Value Pair<h2>"
   ]
  },
  {
   "cell_type": "code",
   "execution_count": null,
   "metadata": {},
   "outputs": [],
   "source": [
    "def formatPixelColor(pixel_color):\n",
    "    hex_to_key = {\n",
    "        \"#000000\": 0,\n",
    "        \"#00756F\": 1,\n",
    "        \"#009EAA\": 2,\n",
    "        \"#00A368\": 3,\n",
    "        \"#00CC78\": 4,\n",
    "        \"#00CCC0\": 5,\n",
    "        \"#2450A4\": 6,\n",
    "        \"#3690EA\": 7,\n",
    "        \"#493AC1\": 8,\n",
    "        \"#515252\": 9,\n",
    "        \"#51E9F4\": 10,\n",
    "        \"#6A5CFF\": 11,\n",
    "        \"#6D001A\": 12,\n",
    "        \"#6D482F\": 13,\n",
    "        \"#7EED56\": 14,\n",
    "        \"#811E9F\": 15,\n",
    "        \"#898D90\": 16,\n",
    "        \"#94B3FF\": 17,\n",
    "        \"#9C6926\": 18,\n",
    "        \"#B44AC0\": 19,\n",
    "        \"#BE0039\": 20,\n",
    "        \"#D4D7D9\": 21,\n",
    "        \"#DE107F\": 22,\n",
    "        \"#E4ABFF\": 23,\n",
    "        \"#FF3881\": 24,\n",
    "        \"#FF4500\": 25,\n",
    "        \"#FF99AA\": 26,\n",
    "        \"#FFA800\": 27,\n",
    "        \"#FFB470\": 28,\n",
    "        \"#FFD635\": 29,\n",
    "        \"#FFF8B8\": 30,\n",
    "        \"#FFFFFF\": 31,\n",
    "    }\n",
    "\n",
    "    return hex_to_key[pixel_color]"
   ]
  },
  {
   "cell_type": "markdown",
   "metadata": {},
   "source": [
    "<h2>Split Pixel Coordiantes into X and Y Columns<h2>"
   ]
  },
  {
   "cell_type": "code",
   "execution_count": null,
   "metadata": {},
   "outputs": [],
   "source": [
    "def splitCoords(value):\n",
    "\n",
    "    value[\"coordinate\"] = value[\"coordinate\"].apply(lambda x: x.split(\",\"))\n",
    "\n",
    "    value[\"x\"] = value[\"coordinate\"].apply(lambda x: x[0]).astype(\"uint16\")\n",
    "    value[\"y\"] = value[\"coordinate\"].apply(lambda x: x[1]).astype(\"uint16\")\n",
    "\n",
    "    del value[\"coordinate\"]\n",
    "    \n",
    "    return value"
   ]
  },
  {
   "cell_type": "markdown",
   "metadata": {},
   "source": [
    "<h3>The mods were able to place rectangles which consist of 2 x coords and 2 y coords. We need to split the values so that all pixels inside are drawn<h3>"
   ]
  },
  {
   "cell_type": "markdown",
   "metadata": {},
   "source": [
    "<h2>Split Rectangle Coordinates into X and Y Columns<h2>"
   ]
  },
  {
   "cell_type": "code",
   "execution_count": null,
   "metadata": {},
   "outputs": [],
   "source": [
    "# rectangles formatted into x1, x2, y1, y2 tuple\n",
    "# we turn into in x,y value of every pixel placed\n",
    "\n",
    "def SplitCoordsRectangles(rectangles):\n",
    "    rectangles[\"coordinate\"] = rectangles[\"coordinate\"].apply(\n",
    "        lambda x: [int(c) for c in x.split(\",\")]\n",
    "    )\n",
    "\n",
    "    recsValue = pd.DataFrame(columns=[\"timestamp\", \"pixel_color\", \"x\", \"y\"])\n",
    "\n",
    "    # Iterate over the rectangles in the chunk.\n",
    "    for rect in rectangles.itertuples():\n",
    "        x1, y1, x2, y2 = rect.coordinate\n",
    "        width = x2 - x1 + 1 # plus 1 since we start at 0\n",
    "        height = y2 - y1 + 1\n",
    "\n",
    "        for i in range(width):\n",
    "            for j in range(height):\n",
    "                x = x1 + i\n",
    "                y = y1 + j\n",
    "\n",
    "                recsValue.loc[len(recsValue)] = [\n",
    "                    rect.timestamp,\n",
    "                    rect.pixel_color,\n",
    "                    x,\n",
    "                    y,\n",
    "                ]\n",
    "\n",
    "    recsValue[\"timestamp\"] = recsValue[\"timestamp\"].astype(\"uint32\")\n",
    "    recsValue[\"pixel_color\"] = recsValue[\"pixel_color\"].astype(\"uint8\")\n",
    "    recsValue[\"x\"] = recsValue[\"x\"].astype(\"uint16\")\n",
    "    recsValue[\"y\"] = recsValue[\"y\"].astype(\"uint16\")\n",
    "\n",
    "    return recsValue"
   ]
  },
  {
   "cell_type": "markdown",
   "metadata": {},
   "source": [
    "<h2>Process The Data Chunks<h2>"
   ]
  },
  {
   "cell_type": "code",
   "execution_count": null,
   "metadata": {},
   "outputs": [],
   "source": [
    "def processChunk(chunk, df):\n",
    "    \n",
    "    chunk[\"timestamp\"] = chunk[\"timestamp\"].astype(\"uint32\")\n",
    "    chunk[\"pixel_color\"] = chunk[\"pixel_color\"].astype(\"uint8\")\n",
    "\n",
    "    \n",
    "    groups = chunk.groupby(chunk[\"coordinate\"].str.count(\",\") == 1)\n",
    "    rectangles = None\n",
    "    points = groups.get_group(True).reset_index(drop=True)\n",
    "    try:\n",
    "        rectangles = groups.get_group(False).reset_index(drop=True)\n",
    "    except KeyError:\n",
    "        \n",
    "        pass\n",
    "\n",
    "    points = splitCoords(points)\n",
    "\n",
    "    df = pd.concat((df, points), ignore_index=True)\n",
    "\n",
    "    if rectangles is not None:\n",
    "        rectangles = SplitCoordsRectangles(rectangles)\n",
    "        df = pd.concat((df, rectangles), ignore_index=True)\n",
    "\n",
    "    return df\n",
    "\n",
    "\n",
    "chunk = pd.DataFrame(\n",
    "    {\n",
    "        \"timestamp\": [123, 456, 789],\n",
    "        \"coordinate\": [\"0,0\", \"1,1\", \"2,2,3,3\"],\n",
    "        \"pixel_color\": [0, 1, 2],\n",
    "    }\n",
    ")"
   ]
  },
  {
   "cell_type": "markdown",
   "metadata": {},
   "source": [
    "<h1>Runner<h1>\n",
    "<h4>this may take 1hr plus...<h4>"
   ]
  },
  {
   "cell_type": "code",
   "execution_count": 25,
   "metadata": {},
   "outputs": [
    {
     "ename": "PermissionError",
     "evalue": "[WinError 5] Failed to open local file 'D:/temp'. Detail: [Windows error 5] Access is denied.\r\n",
     "output_type": "error",
     "traceback": [
      "\u001b[1;31m---------------------------------------------------------------------------\u001b[0m",
      "\u001b[1;31mPermissionError\u001b[0m                           Traceback (most recent call last)",
      "\u001b[1;32mc:\\Users\\danie\\Desktop\\Coding\\r-place\\3\\git\\r-place\\data\\data-formatting.ipynb Cell 16'\u001b[0m in \u001b[0;36m<cell line: 28>\u001b[1;34m()\u001b[0m\n\u001b[0;32m     <a href='vscode-notebook-cell:/c%3A/Users/danie/Desktop/Coding/r-place/3/git/r-place/data/data-formatting.ipynb#ch0000015?line=24'>25</a>\u001b[0m outFilePath \u001b[39m=\u001b[39m \u001b[39m\"\u001b[39m\u001b[39mD:\u001b[39m\u001b[39m\\\\\u001b[39;00m\u001b[39mtemp\u001b[39m\u001b[39m\"\u001b[39m \u001b[39m# replace with the path to where you'd like to output the parquet file\u001b[39;00m\n\u001b[0;32m     <a href='vscode-notebook-cell:/c%3A/Users/danie/Desktop/Coding/r-place/3/git/r-place/data/data-formatting.ipynb#ch0000015?line=25'>26</a>\u001b[0m file \u001b[39m=\u001b[39m \u001b[39m\"\u001b[39m\u001b[39mD:\u001b[39m\u001b[39m\\\\\u001b[39;00m\u001b[39mtemp\u001b[39m\u001b[39m\\\\\u001b[39;00m\u001b[39mcombined.csv.gz\u001b[39m\u001b[39m\"\u001b[39m \u001b[39m# replace with your csv file\u001b[39;00m\n\u001b[1;32m---> <a href='vscode-notebook-cell:/c%3A/Users/danie/Desktop/Coding/r-place/3/git/r-place/data/data-formatting.ipynb#ch0000015?line=27'>28</a>\u001b[0m runner(file, outFilePath)\n\u001b[0;32m     <a href='vscode-notebook-cell:/c%3A/Users/danie/Desktop/Coding/r-place/3/git/r-place/data/data-formatting.ipynb#ch0000015?line=29'>30</a>\u001b[0m df \u001b[39m=\u001b[39m pd\u001b[39m.\u001b[39mread_parquet(outFilePath)\n\u001b[0;32m     <a href='vscode-notebook-cell:/c%3A/Users/danie/Desktop/Coding/r-place/3/git/r-place/data/data-formatting.ipynb#ch0000015?line=30'>31</a>\u001b[0m df\n",
      "\u001b[1;32mc:\\Users\\danie\\Desktop\\Coding\\r-place\\3\\git\\r-place\\data\\data-formatting.ipynb Cell 16'\u001b[0m in \u001b[0;36mrunner\u001b[1;34m(file, outFilePath)\u001b[0m\n\u001b[0;32m     <a href='vscode-notebook-cell:/c%3A/Users/danie/Desktop/Coding/r-place/3/git/r-place/data/data-formatting.ipynb#ch0000015?line=16'>17</a>\u001b[0m         df \u001b[39m=\u001b[39m processChunk(chunk, df)\n\u001b[0;32m     <a href='vscode-notebook-cell:/c%3A/Users/danie/Desktop/Coding/r-place/3/git/r-place/data/data-formatting.ipynb#ch0000015?line=18'>19</a>\u001b[0m df\u001b[39m.\u001b[39msort_values(\u001b[39m\"\u001b[39m\u001b[39mtimestamp\u001b[39m\u001b[39m\"\u001b[39m, inplace\u001b[39m=\u001b[39m\u001b[39mTrue\u001b[39;00m, ignore_index\u001b[39m=\u001b[39m\u001b[39mTrue\u001b[39;00m)\n\u001b[1;32m---> <a href='vscode-notebook-cell:/c%3A/Users/danie/Desktop/Coding/r-place/3/git/r-place/data/data-formatting.ipynb#ch0000015?line=20'>21</a>\u001b[0m df\u001b[39m.\u001b[39;49mto_parquet(outFilePath)\n\u001b[0;32m     <a href='vscode-notebook-cell:/c%3A/Users/danie/Desktop/Coding/r-place/3/git/r-place/data/data-formatting.ipynb#ch0000015?line=22'>23</a>\u001b[0m \u001b[39mreturn\u001b[39;00m df\n",
      "File \u001b[1;32m~\\AppData\\Roaming\\Python\\Python310\\site-packages\\pandas\\util\\_decorators.py:207\u001b[0m, in \u001b[0;36mdeprecate_kwarg.<locals>._deprecate_kwarg.<locals>.wrapper\u001b[1;34m(*args, **kwargs)\u001b[0m\n\u001b[0;32m    <a href='file:///c%3A/Users/danie/AppData/Roaming/Python/Python310/site-packages/pandas/util/_decorators.py?line=204'>205</a>\u001b[0m     \u001b[39melse\u001b[39;00m:\n\u001b[0;32m    <a href='file:///c%3A/Users/danie/AppData/Roaming/Python/Python310/site-packages/pandas/util/_decorators.py?line=205'>206</a>\u001b[0m         kwargs[new_arg_name] \u001b[39m=\u001b[39m new_arg_value\n\u001b[1;32m--> <a href='file:///c%3A/Users/danie/AppData/Roaming/Python/Python310/site-packages/pandas/util/_decorators.py?line=206'>207</a>\u001b[0m \u001b[39mreturn\u001b[39;00m func(\u001b[39m*\u001b[39margs, \u001b[39m*\u001b[39m\u001b[39m*\u001b[39mkwargs)\n",
      "File \u001b[1;32m~\\AppData\\Roaming\\Python\\Python310\\site-packages\\pandas\\core\\frame.py:2835\u001b[0m, in \u001b[0;36mDataFrame.to_parquet\u001b[1;34m(self, path, engine, compression, index, partition_cols, storage_options, **kwargs)\u001b[0m\n\u001b[0;32m   <a href='file:///c%3A/Users/danie/AppData/Roaming/Python/Python310/site-packages/pandas/core/frame.py?line=2748'>2749</a>\u001b[0m \u001b[39m\"\"\"\u001b[39;00m\n\u001b[0;32m   <a href='file:///c%3A/Users/danie/AppData/Roaming/Python/Python310/site-packages/pandas/core/frame.py?line=2749'>2750</a>\u001b[0m \u001b[39mWrite a DataFrame to the binary parquet format.\u001b[39;00m\n\u001b[0;32m   <a href='file:///c%3A/Users/danie/AppData/Roaming/Python/Python310/site-packages/pandas/core/frame.py?line=2750'>2751</a>\u001b[0m \n\u001b[1;32m   (...)\u001b[0m\n\u001b[0;32m   <a href='file:///c%3A/Users/danie/AppData/Roaming/Python/Python310/site-packages/pandas/core/frame.py?line=2830'>2831</a>\u001b[0m \u001b[39m>>> content = f.read()\u001b[39;00m\n\u001b[0;32m   <a href='file:///c%3A/Users/danie/AppData/Roaming/Python/Python310/site-packages/pandas/core/frame.py?line=2831'>2832</a>\u001b[0m \u001b[39m\"\"\"\u001b[39;00m\n\u001b[0;32m   <a href='file:///c%3A/Users/danie/AppData/Roaming/Python/Python310/site-packages/pandas/core/frame.py?line=2832'>2833</a>\u001b[0m \u001b[39mfrom\u001b[39;00m \u001b[39mpandas\u001b[39;00m\u001b[39m.\u001b[39;00m\u001b[39mio\u001b[39;00m\u001b[39m.\u001b[39;00m\u001b[39mparquet\u001b[39;00m \u001b[39mimport\u001b[39;00m to_parquet\n\u001b[1;32m-> <a href='file:///c%3A/Users/danie/AppData/Roaming/Python/Python310/site-packages/pandas/core/frame.py?line=2834'>2835</a>\u001b[0m \u001b[39mreturn\u001b[39;00m to_parquet(\n\u001b[0;32m   <a href='file:///c%3A/Users/danie/AppData/Roaming/Python/Python310/site-packages/pandas/core/frame.py?line=2835'>2836</a>\u001b[0m     \u001b[39mself\u001b[39m,\n\u001b[0;32m   <a href='file:///c%3A/Users/danie/AppData/Roaming/Python/Python310/site-packages/pandas/core/frame.py?line=2836'>2837</a>\u001b[0m     path,\n\u001b[0;32m   <a href='file:///c%3A/Users/danie/AppData/Roaming/Python/Python310/site-packages/pandas/core/frame.py?line=2837'>2838</a>\u001b[0m     engine,\n\u001b[0;32m   <a href='file:///c%3A/Users/danie/AppData/Roaming/Python/Python310/site-packages/pandas/core/frame.py?line=2838'>2839</a>\u001b[0m     compression\u001b[39m=\u001b[39mcompression,\n\u001b[0;32m   <a href='file:///c%3A/Users/danie/AppData/Roaming/Python/Python310/site-packages/pandas/core/frame.py?line=2839'>2840</a>\u001b[0m     index\u001b[39m=\u001b[39mindex,\n\u001b[0;32m   <a href='file:///c%3A/Users/danie/AppData/Roaming/Python/Python310/site-packages/pandas/core/frame.py?line=2840'>2841</a>\u001b[0m     partition_cols\u001b[39m=\u001b[39mpartition_cols,\n\u001b[0;32m   <a href='file:///c%3A/Users/danie/AppData/Roaming/Python/Python310/site-packages/pandas/core/frame.py?line=2841'>2842</a>\u001b[0m     storage_options\u001b[39m=\u001b[39mstorage_options,\n\u001b[0;32m   <a href='file:///c%3A/Users/danie/AppData/Roaming/Python/Python310/site-packages/pandas/core/frame.py?line=2842'>2843</a>\u001b[0m     \u001b[39m*\u001b[39m\u001b[39m*\u001b[39mkwargs,\n\u001b[0;32m   <a href='file:///c%3A/Users/danie/AppData/Roaming/Python/Python310/site-packages/pandas/core/frame.py?line=2843'>2844</a>\u001b[0m )\n",
      "File \u001b[1;32m~\\AppData\\Roaming\\Python\\Python310\\site-packages\\pandas\\io\\parquet.py:420\u001b[0m, in \u001b[0;36mto_parquet\u001b[1;34m(df, path, engine, compression, index, storage_options, partition_cols, **kwargs)\u001b[0m\n\u001b[0;32m    <a href='file:///c%3A/Users/danie/AppData/Roaming/Python/Python310/site-packages/pandas/io/parquet.py?line=415'>416</a>\u001b[0m impl \u001b[39m=\u001b[39m get_engine(engine)\n\u001b[0;32m    <a href='file:///c%3A/Users/danie/AppData/Roaming/Python/Python310/site-packages/pandas/io/parquet.py?line=417'>418</a>\u001b[0m path_or_buf: FilePath \u001b[39m|\u001b[39m WriteBuffer[\u001b[39mbytes\u001b[39m] \u001b[39m=\u001b[39m io\u001b[39m.\u001b[39mBytesIO() \u001b[39mif\u001b[39;00m path \u001b[39mis\u001b[39;00m \u001b[39mNone\u001b[39;00m \u001b[39melse\u001b[39;00m path\n\u001b[1;32m--> <a href='file:///c%3A/Users/danie/AppData/Roaming/Python/Python310/site-packages/pandas/io/parquet.py?line=419'>420</a>\u001b[0m impl\u001b[39m.\u001b[39mwrite(\n\u001b[0;32m    <a href='file:///c%3A/Users/danie/AppData/Roaming/Python/Python310/site-packages/pandas/io/parquet.py?line=420'>421</a>\u001b[0m     df,\n\u001b[0;32m    <a href='file:///c%3A/Users/danie/AppData/Roaming/Python/Python310/site-packages/pandas/io/parquet.py?line=421'>422</a>\u001b[0m     path_or_buf,\n\u001b[0;32m    <a href='file:///c%3A/Users/danie/AppData/Roaming/Python/Python310/site-packages/pandas/io/parquet.py?line=422'>423</a>\u001b[0m     compression\u001b[39m=\u001b[39mcompression,\n\u001b[0;32m    <a href='file:///c%3A/Users/danie/AppData/Roaming/Python/Python310/site-packages/pandas/io/parquet.py?line=423'>424</a>\u001b[0m     index\u001b[39m=\u001b[39mindex,\n\u001b[0;32m    <a href='file:///c%3A/Users/danie/AppData/Roaming/Python/Python310/site-packages/pandas/io/parquet.py?line=424'>425</a>\u001b[0m     partition_cols\u001b[39m=\u001b[39mpartition_cols,\n\u001b[0;32m    <a href='file:///c%3A/Users/danie/AppData/Roaming/Python/Python310/site-packages/pandas/io/parquet.py?line=425'>426</a>\u001b[0m     storage_options\u001b[39m=\u001b[39mstorage_options,\n\u001b[0;32m    <a href='file:///c%3A/Users/danie/AppData/Roaming/Python/Python310/site-packages/pandas/io/parquet.py?line=426'>427</a>\u001b[0m     \u001b[39m*\u001b[39m\u001b[39m*\u001b[39mkwargs,\n\u001b[0;32m    <a href='file:///c%3A/Users/danie/AppData/Roaming/Python/Python310/site-packages/pandas/io/parquet.py?line=427'>428</a>\u001b[0m )\n\u001b[0;32m    <a href='file:///c%3A/Users/danie/AppData/Roaming/Python/Python310/site-packages/pandas/io/parquet.py?line=429'>430</a>\u001b[0m \u001b[39mif\u001b[39;00m path \u001b[39mis\u001b[39;00m \u001b[39mNone\u001b[39;00m:\n\u001b[0;32m    <a href='file:///c%3A/Users/danie/AppData/Roaming/Python/Python310/site-packages/pandas/io/parquet.py?line=430'>431</a>\u001b[0m     \u001b[39massert\u001b[39;00m \u001b[39misinstance\u001b[39m(path_or_buf, io\u001b[39m.\u001b[39mBytesIO)\n",
      "File \u001b[1;32m~\\AppData\\Roaming\\Python\\Python310\\site-packages\\pandas\\io\\parquet.py:195\u001b[0m, in \u001b[0;36mPyArrowImpl.write\u001b[1;34m(self, df, path, compression, index, storage_options, partition_cols, **kwargs)\u001b[0m\n\u001b[0;32m    <a href='file:///c%3A/Users/danie/AppData/Roaming/Python/Python310/site-packages/pandas/io/parquet.py?line=185'>186</a>\u001b[0m         \u001b[39mself\u001b[39m\u001b[39m.\u001b[39mapi\u001b[39m.\u001b[39mparquet\u001b[39m.\u001b[39mwrite_to_dataset(\n\u001b[0;32m    <a href='file:///c%3A/Users/danie/AppData/Roaming/Python/Python310/site-packages/pandas/io/parquet.py?line=186'>187</a>\u001b[0m             table,\n\u001b[0;32m    <a href='file:///c%3A/Users/danie/AppData/Roaming/Python/Python310/site-packages/pandas/io/parquet.py?line=187'>188</a>\u001b[0m             path_or_handle,\n\u001b[1;32m   (...)\u001b[0m\n\u001b[0;32m    <a href='file:///c%3A/Users/danie/AppData/Roaming/Python/Python310/site-packages/pandas/io/parquet.py?line=190'>191</a>\u001b[0m             \u001b[39m*\u001b[39m\u001b[39m*\u001b[39mkwargs,\n\u001b[0;32m    <a href='file:///c%3A/Users/danie/AppData/Roaming/Python/Python310/site-packages/pandas/io/parquet.py?line=191'>192</a>\u001b[0m         )\n\u001b[0;32m    <a href='file:///c%3A/Users/danie/AppData/Roaming/Python/Python310/site-packages/pandas/io/parquet.py?line=192'>193</a>\u001b[0m     \u001b[39melse\u001b[39;00m:\n\u001b[0;32m    <a href='file:///c%3A/Users/danie/AppData/Roaming/Python/Python310/site-packages/pandas/io/parquet.py?line=193'>194</a>\u001b[0m         \u001b[39m# write to single output file\u001b[39;00m\n\u001b[1;32m--> <a href='file:///c%3A/Users/danie/AppData/Roaming/Python/Python310/site-packages/pandas/io/parquet.py?line=194'>195</a>\u001b[0m         \u001b[39mself\u001b[39m\u001b[39m.\u001b[39mapi\u001b[39m.\u001b[39mparquet\u001b[39m.\u001b[39mwrite_table(\n\u001b[0;32m    <a href='file:///c%3A/Users/danie/AppData/Roaming/Python/Python310/site-packages/pandas/io/parquet.py?line=195'>196</a>\u001b[0m             table, path_or_handle, compression\u001b[39m=\u001b[39mcompression, \u001b[39m*\u001b[39m\u001b[39m*\u001b[39mkwargs\n\u001b[0;32m    <a href='file:///c%3A/Users/danie/AppData/Roaming/Python/Python310/site-packages/pandas/io/parquet.py?line=196'>197</a>\u001b[0m         )\n\u001b[0;32m    <a href='file:///c%3A/Users/danie/AppData/Roaming/Python/Python310/site-packages/pandas/io/parquet.py?line=197'>198</a>\u001b[0m \u001b[39mfinally\u001b[39;00m:\n\u001b[0;32m    <a href='file:///c%3A/Users/danie/AppData/Roaming/Python/Python310/site-packages/pandas/io/parquet.py?line=198'>199</a>\u001b[0m     \u001b[39mif\u001b[39;00m handles \u001b[39mis\u001b[39;00m \u001b[39mnot\u001b[39;00m \u001b[39mNone\u001b[39;00m:\n",
      "File \u001b[1;32m~\\AppData\\Roaming\\Python\\Python310\\site-packages\\pyarrow\\parquet\\__init__.py:2873\u001b[0m, in \u001b[0;36mwrite_table\u001b[1;34m(table, where, row_group_size, version, use_dictionary, compression, write_statistics, use_deprecated_int96_timestamps, coerce_timestamps, allow_truncated_timestamps, data_page_size, flavor, filesystem, compression_level, use_byte_stream_split, column_encoding, data_page_version, use_compliant_nested_type, encryption_properties, write_batch_size, dictionary_pagesize_limit, **kwargs)\u001b[0m\n\u001b[0;32m   <a href='file:///c%3A/Users/danie/AppData/Roaming/Python/Python310/site-packages/pyarrow/parquet/__init__.py?line=2870'>2871</a>\u001b[0m use_int96 \u001b[39m=\u001b[39m use_deprecated_int96_timestamps\n\u001b[0;32m   <a href='file:///c%3A/Users/danie/AppData/Roaming/Python/Python310/site-packages/pyarrow/parquet/__init__.py?line=2871'>2872</a>\u001b[0m \u001b[39mtry\u001b[39;00m:\n\u001b[1;32m-> <a href='file:///c%3A/Users/danie/AppData/Roaming/Python/Python310/site-packages/pyarrow/parquet/__init__.py?line=2872'>2873</a>\u001b[0m     \u001b[39mwith\u001b[39;00m ParquetWriter(\n\u001b[0;32m   <a href='file:///c%3A/Users/danie/AppData/Roaming/Python/Python310/site-packages/pyarrow/parquet/__init__.py?line=2873'>2874</a>\u001b[0m             where, table\u001b[39m.\u001b[39mschema,\n\u001b[0;32m   <a href='file:///c%3A/Users/danie/AppData/Roaming/Python/Python310/site-packages/pyarrow/parquet/__init__.py?line=2874'>2875</a>\u001b[0m             filesystem\u001b[39m=\u001b[39mfilesystem,\n\u001b[0;32m   <a href='file:///c%3A/Users/danie/AppData/Roaming/Python/Python310/site-packages/pyarrow/parquet/__init__.py?line=2875'>2876</a>\u001b[0m             version\u001b[39m=\u001b[39mversion,\n\u001b[0;32m   <a href='file:///c%3A/Users/danie/AppData/Roaming/Python/Python310/site-packages/pyarrow/parquet/__init__.py?line=2876'>2877</a>\u001b[0m             flavor\u001b[39m=\u001b[39mflavor,\n\u001b[0;32m   <a href='file:///c%3A/Users/danie/AppData/Roaming/Python/Python310/site-packages/pyarrow/parquet/__init__.py?line=2877'>2878</a>\u001b[0m             use_dictionary\u001b[39m=\u001b[39muse_dictionary,\n\u001b[0;32m   <a href='file:///c%3A/Users/danie/AppData/Roaming/Python/Python310/site-packages/pyarrow/parquet/__init__.py?line=2878'>2879</a>\u001b[0m             write_statistics\u001b[39m=\u001b[39mwrite_statistics,\n\u001b[0;32m   <a href='file:///c%3A/Users/danie/AppData/Roaming/Python/Python310/site-packages/pyarrow/parquet/__init__.py?line=2879'>2880</a>\u001b[0m             coerce_timestamps\u001b[39m=\u001b[39mcoerce_timestamps,\n\u001b[0;32m   <a href='file:///c%3A/Users/danie/AppData/Roaming/Python/Python310/site-packages/pyarrow/parquet/__init__.py?line=2880'>2881</a>\u001b[0m             data_page_size\u001b[39m=\u001b[39mdata_page_size,\n\u001b[0;32m   <a href='file:///c%3A/Users/danie/AppData/Roaming/Python/Python310/site-packages/pyarrow/parquet/__init__.py?line=2881'>2882</a>\u001b[0m             allow_truncated_timestamps\u001b[39m=\u001b[39mallow_truncated_timestamps,\n\u001b[0;32m   <a href='file:///c%3A/Users/danie/AppData/Roaming/Python/Python310/site-packages/pyarrow/parquet/__init__.py?line=2882'>2883</a>\u001b[0m             compression\u001b[39m=\u001b[39mcompression,\n\u001b[0;32m   <a href='file:///c%3A/Users/danie/AppData/Roaming/Python/Python310/site-packages/pyarrow/parquet/__init__.py?line=2883'>2884</a>\u001b[0m             use_deprecated_int96_timestamps\u001b[39m=\u001b[39muse_int96,\n\u001b[0;32m   <a href='file:///c%3A/Users/danie/AppData/Roaming/Python/Python310/site-packages/pyarrow/parquet/__init__.py?line=2884'>2885</a>\u001b[0m             compression_level\u001b[39m=\u001b[39mcompression_level,\n\u001b[0;32m   <a href='file:///c%3A/Users/danie/AppData/Roaming/Python/Python310/site-packages/pyarrow/parquet/__init__.py?line=2885'>2886</a>\u001b[0m             use_byte_stream_split\u001b[39m=\u001b[39muse_byte_stream_split,\n\u001b[0;32m   <a href='file:///c%3A/Users/danie/AppData/Roaming/Python/Python310/site-packages/pyarrow/parquet/__init__.py?line=2886'>2887</a>\u001b[0m             column_encoding\u001b[39m=\u001b[39mcolumn_encoding,\n\u001b[0;32m   <a href='file:///c%3A/Users/danie/AppData/Roaming/Python/Python310/site-packages/pyarrow/parquet/__init__.py?line=2887'>2888</a>\u001b[0m             data_page_version\u001b[39m=\u001b[39mdata_page_version,\n\u001b[0;32m   <a href='file:///c%3A/Users/danie/AppData/Roaming/Python/Python310/site-packages/pyarrow/parquet/__init__.py?line=2888'>2889</a>\u001b[0m             use_compliant_nested_type\u001b[39m=\u001b[39muse_compliant_nested_type,\n\u001b[0;32m   <a href='file:///c%3A/Users/danie/AppData/Roaming/Python/Python310/site-packages/pyarrow/parquet/__init__.py?line=2889'>2890</a>\u001b[0m             encryption_properties\u001b[39m=\u001b[39mencryption_properties,\n\u001b[0;32m   <a href='file:///c%3A/Users/danie/AppData/Roaming/Python/Python310/site-packages/pyarrow/parquet/__init__.py?line=2890'>2891</a>\u001b[0m             write_batch_size\u001b[39m=\u001b[39mwrite_batch_size,\n\u001b[0;32m   <a href='file:///c%3A/Users/danie/AppData/Roaming/Python/Python310/site-packages/pyarrow/parquet/__init__.py?line=2891'>2892</a>\u001b[0m             dictionary_pagesize_limit\u001b[39m=\u001b[39mdictionary_pagesize_limit,\n\u001b[0;32m   <a href='file:///c%3A/Users/danie/AppData/Roaming/Python/Python310/site-packages/pyarrow/parquet/__init__.py?line=2892'>2893</a>\u001b[0m             \u001b[39m*\u001b[39m\u001b[39m*\u001b[39mkwargs) \u001b[39mas\u001b[39;00m writer:\n\u001b[0;32m   <a href='file:///c%3A/Users/danie/AppData/Roaming/Python/Python310/site-packages/pyarrow/parquet/__init__.py?line=2893'>2894</a>\u001b[0m         writer\u001b[39m.\u001b[39mwrite_table(table, row_group_size\u001b[39m=\u001b[39mrow_group_size)\n\u001b[0;32m   <a href='file:///c%3A/Users/danie/AppData/Roaming/Python/Python310/site-packages/pyarrow/parquet/__init__.py?line=2894'>2895</a>\u001b[0m \u001b[39mexcept\u001b[39;00m \u001b[39mException\u001b[39;00m:\n",
      "File \u001b[1;32m~\\AppData\\Roaming\\Python\\Python310\\site-packages\\pyarrow\\parquet\\__init__.py:912\u001b[0m, in \u001b[0;36mParquetWriter.__init__\u001b[1;34m(self, where, schema, filesystem, flavor, version, use_dictionary, compression, write_statistics, use_deprecated_int96_timestamps, compression_level, use_byte_stream_split, column_encoding, writer_engine_version, data_page_version, use_compliant_nested_type, encryption_properties, write_batch_size, dictionary_pagesize_limit, **options)\u001b[0m\n\u001b[0;32m    <a href='file:///c%3A/Users/danie/AppData/Roaming/Python/Python310/site-packages/pyarrow/parquet/__init__.py?line=906'>907</a>\u001b[0m         sink \u001b[39m=\u001b[39m \u001b[39mself\u001b[39m\u001b[39m.\u001b[39mfile_handle \u001b[39m=\u001b[39m filesystem\u001b[39m.\u001b[39mopen(path, \u001b[39m'\u001b[39m\u001b[39mwb\u001b[39m\u001b[39m'\u001b[39m)\n\u001b[0;32m    <a href='file:///c%3A/Users/danie/AppData/Roaming/Python/Python310/site-packages/pyarrow/parquet/__init__.py?line=907'>908</a>\u001b[0m     \u001b[39melse\u001b[39;00m:\n\u001b[0;32m    <a href='file:///c%3A/Users/danie/AppData/Roaming/Python/Python310/site-packages/pyarrow/parquet/__init__.py?line=908'>909</a>\u001b[0m         \u001b[39m# ARROW-10480: do not auto-detect compression.  While\u001b[39;00m\n\u001b[0;32m    <a href='file:///c%3A/Users/danie/AppData/Roaming/Python/Python310/site-packages/pyarrow/parquet/__init__.py?line=909'>910</a>\u001b[0m         \u001b[39m# a filename like foo.parquet.gz is nonconforming, it\u001b[39;00m\n\u001b[0;32m    <a href='file:///c%3A/Users/danie/AppData/Roaming/Python/Python310/site-packages/pyarrow/parquet/__init__.py?line=910'>911</a>\u001b[0m         \u001b[39m# shouldn't implicitly apply compression.\u001b[39;00m\n\u001b[1;32m--> <a href='file:///c%3A/Users/danie/AppData/Roaming/Python/Python310/site-packages/pyarrow/parquet/__init__.py?line=911'>912</a>\u001b[0m         sink \u001b[39m=\u001b[39m \u001b[39mself\u001b[39m\u001b[39m.\u001b[39mfile_handle \u001b[39m=\u001b[39m filesystem\u001b[39m.\u001b[39;49mopen_output_stream(\n\u001b[0;32m    <a href='file:///c%3A/Users/danie/AppData/Roaming/Python/Python310/site-packages/pyarrow/parquet/__init__.py?line=912'>913</a>\u001b[0m             path, compression\u001b[39m=\u001b[39;49m\u001b[39mNone\u001b[39;49;00m)\n\u001b[0;32m    <a href='file:///c%3A/Users/danie/AppData/Roaming/Python/Python310/site-packages/pyarrow/parquet/__init__.py?line=913'>914</a>\u001b[0m \u001b[39melse\u001b[39;00m:\n\u001b[0;32m    <a href='file:///c%3A/Users/danie/AppData/Roaming/Python/Python310/site-packages/pyarrow/parquet/__init__.py?line=914'>915</a>\u001b[0m     sink \u001b[39m=\u001b[39m where\n",
      "File \u001b[1;32m~\\AppData\\Roaming\\Python\\Python310\\site-packages\\pyarrow\\_fs.pyx:681\u001b[0m, in \u001b[0;36mpyarrow._fs.FileSystem.open_output_stream\u001b[1;34m()\u001b[0m\n",
      "File \u001b[1;32m~\\AppData\\Roaming\\Python\\Python310\\site-packages\\pyarrow\\error.pxi:144\u001b[0m, in \u001b[0;36mpyarrow.lib.pyarrow_internal_check_status\u001b[1;34m()\u001b[0m\n",
      "File \u001b[1;32m~\\AppData\\Roaming\\Python\\Python310\\site-packages\\pyarrow\\error.pxi:111\u001b[0m, in \u001b[0;36mpyarrow.lib.check_status\u001b[1;34m()\u001b[0m\n",
      "\u001b[1;31mPermissionError\u001b[0m: [WinError 5] Failed to open local file 'D:/temp'. Detail: [Windows error 5] Access is denied.\r\n"
     ]
    }
   ],
   "source": [
    "chunkSize = 10000000\n",
    "\n",
    "def runner(file, outFilePath):\n",
    "    df = pd.DataFrame(columns=[\"timestamp\", \"pixel_color\", \"x\",\"y\"])\n",
    "    df[\"timestamp\"] = df[\"timestamp\"].astype(\"uint32\")\n",
    "    df[\"pixel_color\"] = df[\"pixel_color\"].astype(\"uint8\")\n",
    "    df[\"x\"] = df[\"x\"].astype(\"uint16\")\n",
    "    df[\"y\"] = df[\"y\"].astype(\"uint16\")\n",
    "\n",
    "    with pd.read_csv(file, usecols=[\"timestamp\",\"pixel_color\",\"coordinate\"], converters= {\"timestamp\": formatTimestamp, \"pixel_color\": formatPixelColor}, \n",
    "    chunksize=chunkSize, \n",
    "    #compression=\"gzip\", \n",
    "    #engine=\"c\"\n",
    "    ) as csv: #compression=\"gzip\"\n",
    "\n",
    "        for chunk in csv:\n",
    "            df = processChunk(chunk, df)\n",
    "\n",
    "    df.sort_values(\"timestamp\", inplace=True, ignore_index=True)\n",
    "\n",
    "    df.to_parquet(outFilePath)\n",
    "\n",
    "    return df\n",
    "\n",
    "outFilePath = \"D:\\\\temp\" # replace with the path to where you'd like to output the parquet file\n",
    "file = \"D:\\\\temp\\\\combined.csv.gz\" # replace with your csv file\n",
    "\n",
    "runner(file, outFilePath)\n",
    "\n",
    "df = pd.read_parquet(outFilePath)\n",
    "df"
   ]
  }
 ],
 "metadata": {
  "interpreter": {
   "hash": "26de051ba29f2982a8de78e945f0abaf191376122a1563185a90213a26c5da77"
  },
  "kernelspec": {
   "display_name": "Python 3.10.4 64-bit",
   "language": "python",
   "name": "python3"
  },
  "language_info": {
   "codemirror_mode": {
    "name": "ipython",
    "version": 3
   },
   "file_extension": ".py",
   "mimetype": "text/x-python",
   "name": "python",
   "nbconvert_exporter": "python",
   "pygments_lexer": "ipython3",
   "version": "3.10.4"
  },
  "orig_nbformat": 4
 },
 "nbformat": 4,
 "nbformat_minor": 2
}
