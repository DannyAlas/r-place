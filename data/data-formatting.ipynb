{
 "cells": [
  {
   "cell_type": "markdown",
   "metadata": {},
   "source": [
    "<h1>Combine csv's<h1>"
   ]
  },
  {
   "cell_type": "markdown",
   "metadata": {},
   "source": [
    "#### If you have multiple csv's"
   ]
  },
  {
   "cell_type": "code",
   "execution_count": null,
   "metadata": {},
   "outputs": [],
   "source": [
    "import os\n",
    "import pandas as pd\n",
    "\n",
    "dirpath = \"input path to the folder of your csv's\"\n",
    "\n",
    "df = pd.concat([pd.read_csv(os.path.join(dirpath, fname),compression =\"gzip\")\n",
    "                for fname in os.listdir(dirpath)], ignore_index=True)\n",
    "\n",
    "df.to_csv(\"output path for the csv.gzip\")"
   ]
  },
  {
   "cell_type": "markdown",
   "metadata": {},
   "source": [
    "<h2>Change timestamp to millisecond<h2>"
   ]
  },
  {
   "cell_type": "code",
   "execution_count": null,
   "metadata": {},
   "outputs": [],
   "source": [
    "from datetime import datetime\n",
    "\n",
    "startTime = 1648806250315\n",
    "\n",
    "def formatTimestamp(timestamp):\n",
    "\n",
    "    date_format = \"%Y-%m-%d %H:%M:%S.%f\"\n",
    "    try:\n",
    "        timestamp = datetime.strptime(timestamp[:-4], date_format).timestamp() #timezone removal\n",
    "\n",
    "    except ValueError:\n",
    "        timestamp = datetime.strptime(timestamp[:-4], date_format[:-3]).timestamp() #time zone removal if no timestamp decimal\n",
    "\n",
    "    timestamp *= 1000.0\n",
    "    timestamp = int(timestamp)\n",
    "\n",
    "    timestamp -= startTime\n",
    "    return timestamp"
   ]
  },
  {
   "cell_type": "markdown",
   "metadata": {},
   "source": [
    "<h2>Convert Colors to Key-Value Pair<h2>"
   ]
  },
  {
   "cell_type": "code",
   "execution_count": null,
   "metadata": {},
   "outputs": [],
   "source": [
    "def formatPixelColor(pixel_color):\n",
    "    hex_to_key = {\n",
    "        \"#000000\": 0,\n",
    "        \"#00756F\": 1,\n",
    "        \"#009EAA\": 2,\n",
    "        \"#00A368\": 3,\n",
    "        \"#00CC78\": 4,\n",
    "        \"#00CCC0\": 5,\n",
    "        \"#2450A4\": 6,\n",
    "        \"#3690EA\": 7,\n",
    "        \"#493AC1\": 8,\n",
    "        \"#515252\": 9,\n",
    "        \"#51E9F4\": 10,\n",
    "        \"#6A5CFF\": 11,\n",
    "        \"#6D001A\": 12,\n",
    "        \"#6D482F\": 13,\n",
    "        \"#7EED56\": 14,\n",
    "        \"#811E9F\": 15,\n",
    "        \"#898D90\": 16,\n",
    "        \"#94B3FF\": 17,\n",
    "        \"#9C6926\": 18,\n",
    "        \"#B44AC0\": 19,\n",
    "        \"#BE0039\": 20,\n",
    "        \"#D4D7D9\": 21,\n",
    "        \"#DE107F\": 22,\n",
    "        \"#E4ABFF\": 23,\n",
    "        \"#FF3881\": 24,\n",
    "        \"#FF4500\": 25,\n",
    "        \"#FF99AA\": 26,\n",
    "        \"#FFA800\": 27,\n",
    "        \"#FFB470\": 28,\n",
    "        \"#FFD635\": 29,\n",
    "        \"#FFF8B8\": 30,\n",
    "        \"#FFFFFF\": 31,\n",
    "    }\n",
    "\n",
    "    return hex_to_key[pixel_color]"
   ]
  },
  {
   "cell_type": "markdown",
   "metadata": {},
   "source": [
    "<h2>Split Pixel Coordiantes into X and Y Columns<h2>"
   ]
  },
  {
   "cell_type": "code",
   "execution_count": null,
   "metadata": {},
   "outputs": [],
   "source": [
    "def splitCoords(value):\n",
    "\n",
    "    value[\"coordinate\"] = value[\"coordinate\"].apply(lambda x: x.split(\",\"))\n",
    "\n",
    "    value[\"x\"] = value[\"coordinate\"].apply(lambda x: x[0]).astype(\"uint16\")\n",
    "    value[\"y\"] = value[\"coordinate\"].apply(lambda x: x[1]).astype(\"uint16\")\n",
    "\n",
    "    del value[\"coordinate\"]\n",
    "    \n",
    "    return value"
   ]
  },
  {
   "cell_type": "markdown",
   "metadata": {},
   "source": [
    "<h3>The mods were able to place rectangles which consist of 2 x coords and 2 y coords. We need to split the values so that all pixels inside are drawn<h3>"
   ]
  },
  {
   "cell_type": "markdown",
   "metadata": {},
   "source": [
    "<h2>Split Rectangle Coordinates into X and Y Columns<h2>"
   ]
  },
  {
   "cell_type": "code",
   "execution_count": null,
   "metadata": {},
   "outputs": [],
   "source": [
    "# rectangles formatted into x1, x2, y1, y2 tuple\n",
    "# we turn into in x,y value of every pixel placed\n",
    "\n",
    "def SplitCoordsRectangles(rectangles):\n",
    "    rectangles[\"coordinate\"] = rectangles[\"coordinate\"].apply(\n",
    "        lambda x: [int(c) for c in x.split(\",\")]\n",
    "    )\n",
    "\n",
    "    recsValue = pd.DataFrame(columns=[\"timestamp\", \"pixel_color\", \"x\", \"y\"])\n",
    "\n",
    "    # Iterate over the rectangles in the chunk.\n",
    "    for rect in rectangles.itertuples():\n",
    "        x1, y1, x2, y2 = rect.coordinate\n",
    "        width = x2 - x1 + 1 # plus 1 since we start at 0\n",
    "        height = y2 - y1 + 1\n",
    "\n",
    "        for i in range(width):\n",
    "            for j in range(height):\n",
    "                x = x1 + i\n",
    "                y = y1 + j\n",
    "\n",
    "                recsValue.loc[len(recsValue)] = [\n",
    "                    rect.timestamp,\n",
    "                    rect.pixel_color,\n",
    "                    x,\n",
    "                    y,\n",
    "                ]\n",
    "\n",
    "    recsValue[\"timestamp\"] = recsValue[\"timestamp\"].astype(\"uint32\")\n",
    "    recsValue[\"pixel_color\"] = recsValue[\"pixel_color\"].astype(\"uint8\")\n",
    "    recsValue[\"x\"] = recsValue[\"x\"].astype(\"uint16\")\n",
    "    recsValue[\"y\"] = recsValue[\"y\"].astype(\"uint16\")\n",
    "\n",
    "    return recsValue"
   ]
  },
  {
   "cell_type": "markdown",
   "metadata": {},
   "source": [
    "<h2>Process The Data Chunks<h2>"
   ]
  },
  {
   "cell_type": "code",
   "execution_count": null,
   "metadata": {},
   "outputs": [],
   "source": [
    "def processChunk(chunk, df):\n",
    "    \n",
    "    chunk[\"timestamp\"] = chunk[\"timestamp\"].astype(\"uint32\")\n",
    "    chunk[\"pixel_color\"] = chunk[\"pixel_color\"].astype(\"uint8\")\n",
    "\n",
    "    \n",
    "    groups = chunk.groupby(chunk[\"coordinate\"].str.count(\",\") == 1)\n",
    "    rectangles = None\n",
    "    points = groups.get_group(True).reset_index(drop=True)\n",
    "    try:\n",
    "        rectangles = groups.get_group(False).reset_index(drop=True)\n",
    "    except KeyError:\n",
    "        \n",
    "        pass\n",
    "\n",
    "    points = splitCoords(points)\n",
    "\n",
    "    df = pd.concat((df, points), ignore_index=True)\n",
    "\n",
    "    if rectangles is not None:\n",
    "        rectangles = SplitCoordsRectangles(rectangles)\n",
    "        df = pd.concat((df, rectangles), ignore_index=True)\n",
    "\n",
    "    return df\n",
    "\n",
    "\n",
    "chunk = pd.DataFrame(\n",
    "    {\n",
    "        \"timestamp\": [123, 456, 789],\n",
    "        \"coordinate\": [\"0,0\", \"1,1\", \"2,2,3,3\"],\n",
    "        \"pixel_color\": [0, 1, 2],\n",
    "    }\n",
    ")"
   ]
  },
  {
   "cell_type": "markdown",
   "metadata": {},
   "source": [
    "<h1>Runner<h1>\n",
    "<h4>this may take 1hr plus...<h4>"
   ]
  },
  {
   "cell_type": "code",
   "execution_count": null,
   "metadata": {},
   "outputs": [],
   "source": [
    "chunkSize = 10000000\n",
    "\n",
    "def runner(file, outFilePath):\n",
    "    df = pd.DataFrame(columns=[\"timestamp\", \"pixel_color\", \"x\",\"y\"])\n",
    "    df[\"timestamp\"] = df[\"timestamp\"].astype(\"uint32\")\n",
    "    df[\"pixel_color\"] = df[\"pixel_color\"].astype(\"uint8\")\n",
    "    df[\"x\"] = df[\"x\"].astype(\"uint16\")\n",
    "    df[\"y\"] = df[\"y\"].astype(\"uint16\")\n",
    "\n",
    "    with pd.read_csv(file, usecols=[\"timestamp\",\"pixel_color\",\"coordinate\"], converters= {\"timestamp\": formatTimestamp, \"pixel_color\": formatPixelColor}, \n",
    "    chunksize=chunkSize, \n",
    "    compression=\"gzip\", \n",
    "    engine=\"c\"\n",
    "    ) as csv: #compression=\"gzip\"\n",
    "\n",
    "        for chunk in csv:\n",
    "            df = processChunk(chunk, df)\n",
    "\n",
    "    df.sort_values(\"timestamp\", inplace=True, ignore_index=True, version=\"2.6\")\n",
    "\n",
    "    df.to_parquet(outFilePath)\n",
    "\n",
    "    return df\n",
    "\n",
    "outFilePath = \"path to output parquet file\"\n",
    "file = \"path to your csv.gzip file\"\n",
    "\n",
    "runner(file, outFilePath)\n",
    "\n",
    "df = pd.read_parquet(outFilePath)\n",
    "df"
   ]
  },
  {
   "cell_type": "markdown",
   "metadata": {},
   "source": [
    "<h2>Change timestamp to millisecond<h2>"
   ]
  },
  {
   "cell_type": "code",
   "execution_count": 5,
   "metadata": {},
   "outputs": [],
   "source": [
    "from datetime import datetime\n",
    "\n",
    "startTime = 1648806250315\n",
    "\n",
    "def formatTimestamp(timestamp):\n",
    "\n",
    "    date_format = \"%Y-%m-%d %H:%M:%S.%f\"\n",
    "    try:\n",
    "        timestamp = datetime.strptime(timestamp[:-4], date_format).timestamp() #timezone removal\n",
    "\n",
    "    except ValueError:\n",
    "        timestamp = datetime.strptime(timestamp[:-4], date_format[:-3]).timestamp() #time zone removal if no timestamp decimal\n",
    "\n",
    "    timestamp *= 1000.0\n",
    "    timestamp = int(timestamp)\n",
    "\n",
    "    timestamp -= startTime\n",
    "    return timestamp"
   ]
  },
  {
   "cell_type": "markdown",
   "metadata": {},
   "source": [
    "<h2>Convert Colors to Key-Value Pair<h2>"
   ]
  },
  {
   "cell_type": "code",
   "execution_count": 6,
   "metadata": {},
   "outputs": [],
   "source": [
    "def formatPixelColor(pixel_color):\n",
    "    hex_to_key = {\n",
    "        \"#000000\": 0,\n",
    "        \"#00756F\": 1,\n",
    "        \"#009EAA\": 2,\n",
    "        \"#00A368\": 3,\n",
    "        \"#00CC78\": 4,\n",
    "        \"#00CCC0\": 5,\n",
    "        \"#2450A4\": 6,\n",
    "        \"#3690EA\": 7,\n",
    "        \"#493AC1\": 8,\n",
    "        \"#515252\": 9,\n",
    "        \"#51E9F4\": 10,\n",
    "        \"#6A5CFF\": 11,\n",
    "        \"#6D001A\": 12,\n",
    "        \"#6D482F\": 13,\n",
    "        \"#7EED56\": 14,\n",
    "        \"#811E9F\": 15,\n",
    "        \"#898D90\": 16,\n",
    "        \"#94B3FF\": 17,\n",
    "        \"#9C6926\": 18,\n",
    "        \"#B44AC0\": 19,\n",
    "        \"#BE0039\": 20,\n",
    "        \"#D4D7D9\": 21,\n",
    "        \"#DE107F\": 22,\n",
    "        \"#E4ABFF\": 23,\n",
    "        \"#FF3881\": 24,\n",
    "        \"#FF4500\": 25,\n",
    "        \"#FF99AA\": 26,\n",
    "        \"#FFA800\": 27,\n",
    "        \"#FFB470\": 28,\n",
    "        \"#FFD635\": 29,\n",
    "        \"#FFF8B8\": 30,\n",
    "        \"#FFFFFF\": 31,\n",
    "    }\n",
    "\n",
    "    return hex_to_key[pixel_color]"
   ]
  },
  {
   "cell_type": "markdown",
   "metadata": {},
   "source": [
    "<h2>Split Coordiantes into X and Y column<h2>"
   ]
  },
  {
   "cell_type": "code",
   "execution_count": 7,
   "metadata": {},
   "outputs": [],
   "source": [
    "def splitCoords(value):\n",
    "\n",
    "    value[\"coordinate\"] = value[\"coordinate\"].apply(lambda x: x.split(\",\"))\n",
    "\n",
    "    value[\"x\"] = value[\"coordinate\"].apply(lambda x: x[0]).astype(\"uint16\")\n",
    "    value[\"y\"] = value[\"coordinate\"].apply(lambda x: x[1]).astype(\"uint16\")\n",
    "\n",
    "    del value[\"coordinate\"]\n",
    "    \n",
    "    return value"
   ]
  },
  {
   "cell_type": "markdown",
   "metadata": {},
   "source": [
    "<h2>Pepemods ... They place rectangles, we make new df of rectangles<h2> "
   ]
  },
  {
   "cell_type": "code",
   "execution_count": 8,
   "metadata": {},
   "outputs": [],
   "source": [
    "# rectangles formatted into x1, x2, y1, y2 tuple\n",
    "# we trun into in x,y value of every pixel placed\n",
    "\n",
    "def SplitCoordsRectangles(rectangles):\n",
    "    rectangles[\"coordinate\"] = rectangles[\"coordinate\"].apply(\n",
    "        lambda x: [int(c) for c in x.split(\",\")]\n",
    "    )\n",
    "\n",
    "    recsValue = pd.DataFrame(columns=[\"timestamp\", \"pixel_color\", \"x\", \"y\"])\n",
    "\n",
    "    # Iterate over the rectangles in the chunk.\n",
    "    for rect in rectangles.itertuples():\n",
    "        x1, y1, x2, y2 = rect.coordinate\n",
    "        width = x2 - x1 + 1 # plus 1 since we start at 0\n",
    "        height = y2 - y1 + 1\n",
    "\n",
    "        for i in range(width):\n",
    "            for j in range(height):\n",
    "                x = x1 + i\n",
    "                y = y1 + j\n",
    "\n",
    "                recsValue.loc[len(recsValue)] = [\n",
    "                    rect.timestamp,\n",
    "                    rect.pixel_color,\n",
    "                    x,\n",
    "                    y,\n",
    "                ]\n",
    "\n",
    "    recsValue[\"timestamp\"] = recsValue[\"timestamp\"].astype(\"uint32\")\n",
    "    recsValue[\"pixel_color\"] = recsValue[\"pixel_color\"].astype(\"uint8\")\n",
    "    recsValue[\"x\"] = recsValue[\"x\"].astype(\"uint16\")\n",
    "    recsValue[\"y\"] = recsValue[\"y\"].astype(\"uint16\")\n",
    "\n",
    "    return recsValue"
   ]
  },
  {
   "cell_type": "code",
   "execution_count": 9,
   "metadata": {},
   "outputs": [],
   "source": [
    "def processChunk(chunk, df):\n",
    "    \n",
    "    chunk[\"timestamp\"] = chunk[\"timestamp\"].astype(\"uint32\")\n",
    "    chunk[\"pixel_color\"] = chunk[\"pixel_color\"].astype(\"uint8\")\n",
    "\n",
    "    \n",
    "    groups = chunk.groupby(chunk[\"coordinate\"].str.count(\",\") == 1)\n",
    "    rectangles = None\n",
    "    points = groups.get_group(True).reset_index(drop=True)\n",
    "    try:\n",
    "        rectangles = groups.get_group(False).reset_index(drop=True)\n",
    "    except KeyError:\n",
    "        \n",
    "        pass\n",
    "\n",
    "    points = splitCoords(points)\n",
    "\n",
    "    df = pd.concat((df, points), ignore_index=True)\n",
    "\n",
    "    if rectangles is not None:\n",
    "        rectangles = SplitCoordsRectangles(rectangles)\n",
    "        df = pd.concat((df, rectangles), ignore_index=True)\n",
    "\n",
    "    return df\n",
    "\n",
    "\n",
    "chunk = pd.DataFrame(\n",
    "    {\n",
    "        \"timestamp\": [123, 456, 789],\n",
    "        \"coordinate\": [\"0,0\", \"1,1\", \"2,2,3,3\"],\n",
    "        \"pixel_color\": [0, 1, 2],\n",
    "    }\n",
    ")\n",
    "\n"
   ]
  },
  {
   "cell_type": "markdown",
   "metadata": {},
   "source": [
    "<h1>Runner<h1>"
   ]
  },
  {
   "cell_type": "code",
   "execution_count": null,
   "metadata": {},
   "outputs": [],
   "source": [
    "#this may take 1hr plus..."
   ]
  },
  {
   "cell_type": "code",
   "execution_count": 10,
   "metadata": {},
   "outputs": [],
   "source": [
    "chunkSize = 10000000\n",
    "\n",
    "def runner(file, outFilePath):\n",
    "    df = pd.DataFrame(columns=[\"timestamp\", \"pixel_color\", \"x\",\"y\"])\n",
    "    df[\"timestamp\"] = df[\"timestamp\"].astype(\"uint32\")\n",
    "    df[\"pixel_color\"] = df[\"pixel_color\"].astype(\"uint8\")\n",
    "    df[\"x\"] = df[\"x\"].astype(\"uint16\")\n",
    "    df[\"y\"] = df[\"y\"].astype(\"uint16\")\n",
    "\n",
    "    with pd.read_csv(file, usecols=[\"timestamp\",\"pixel_color\",\"coordinate\"], converters= {\"timestamp\": formatTimestamp, \"pixel_color\": formatPixelColor}, \n",
    "    chunksize=chunkSize, \n",
    "    compression=\"gzip\", \n",
    "    engine=\"c\"\n",
    "    ) as csv: #compression=\"gzip\"\n",
    "\n",
    "        for chunk in csv:\n",
    "            df = processChunk(chunk, df)\n",
    "\n",
    "    df.sort_values(\"timestamp\", inplace=True, ignore_index=True, version=\"2.6\")\n",
    "\n",
    "    df.to_parquet(outFilePath)\n",
    "\n",
    "    return df\n",
    "\n",
    "outFilePath = \"path to output parquet file\"\n",
    "file = \"path to your csv.gzip file\"\n",
    "\n",
    "runner(file, outFilePath)\n",
    "\n",
    "df = pd.read_parquet(outFilePath)\n",
    "df"
   ]
  }
 ],
 "metadata": {
  "interpreter": {
   "hash": "a9960baf88259386db57c734c8604c8e4ab789688672644b3cf73fda24b112c6"
  },
  "kernelspec": {
   "display_name": "Python 3.9.6 64-bit",
   "language": "python",
   "name": "python3"
  },
  "language_info": {
   "codemirror_mode": {
    "name": "ipython",
    "version": 3
   },
   "file_extension": ".py",
   "mimetype": "text/x-python",
   "name": "python",
   "nbconvert_exporter": "python",
   "pygments_lexer": "ipython3",
   "version": "3.9.6"
  },
  "orig_nbformat": 4
 },
 "nbformat": 4,
 "nbformat_minor": 2
}
