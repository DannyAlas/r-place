{
 "cells": [
  {
   "cell_type": "code",
   "execution_count": 82,
   "metadata": {},
   "outputs": [],
   "source": [
    "import pandas as pd\n",
    "import numpy as np\n",
    "from sqlalchemy import create_engine \n",
    "from PIL import ImageColor\n",
    "import matplotlib.pyplot as plt\n",
    "from dask import dataframe as dd\n",
    "import panel as pn\n",
    "pn.extension('tabulator')\n",
    "\n",
    "import hvplot.pandas"
   ]
  },
  {
   "cell_type": "markdown",
   "metadata": {},
   "source": [
    "<center>image creation = done |\n",
    "slider = wip |\n",
    "algorithm = haven't started |\n",
    "web visualization = (ノ´ロ`)ノ<center>"
   ]
  },
  {
   "cell_type": "markdown",
   "metadata": {},
   "source": [
    "<h1><center>Data Import and Formatting<h1><center>"
   ]
  },
  {
   "cell_type": "code",
   "execution_count": 83,
   "metadata": {},
   "outputs": [],
   "source": [
    "engine = create_engine('sqlite:///placeData.db')"
   ]
  },
  {
   "cell_type": "code",
   "execution_count": 93,
   "metadata": {},
   "outputs": [
    {
     "data": {
      "text/html": [
       "<div>\n",
       "<style scoped>\n",
       "    .dataframe tbody tr th:only-of-type {\n",
       "        vertical-align: middle;\n",
       "    }\n",
       "\n",
       "    .dataframe tbody tr th {\n",
       "        vertical-align: top;\n",
       "    }\n",
       "\n",
       "    .dataframe thead th {\n",
       "        text-align: right;\n",
       "    }\n",
       "</style>\n",
       "<table border=\"1\" class=\"dataframe\">\n",
       "  <thead>\n",
       "    <tr style=\"text-align: right;\">\n",
       "      <th></th>\n",
       "      <th>index</th>\n",
       "      <th>timestamp</th>\n",
       "      <th>user_id</th>\n",
       "      <th>pixel_color</th>\n",
       "      <th>coordinate</th>\n",
       "    </tr>\n",
       "  </thead>\n",
       "  <tbody>\n",
       "    <tr>\n",
       "      <th>0</th>\n",
       "      <td>0</td>\n",
       "      <td>2022-04-01 17:38:30.498 UTC</td>\n",
       "      <td>9fGRoY1L5mjWkG9ccBMQVWzdZsuqGl+9SLfxgWjn6elFFZ...</td>\n",
       "      <td>#00A368</td>\n",
       "      <td>698,918</td>\n",
       "    </tr>\n",
       "    <tr>\n",
       "      <th>1</th>\n",
       "      <td>1</td>\n",
       "      <td>2022-04-01 17:38:30.506 UTC</td>\n",
       "      <td>AisQ+8TPvQM33hB4gf7gmVhFS1N/EGlYICgmMt6zUsDfd0...</td>\n",
       "      <td>#000000</td>\n",
       "      <td>998,86</td>\n",
       "    </tr>\n",
       "    <tr>\n",
       "      <th>2</th>\n",
       "      <td>2</td>\n",
       "      <td>2022-04-01 17:38:30.508 UTC</td>\n",
       "      <td>io9zeD2F8BKWWXCrEEoa/CwTX/8ir9qw8SsHPy3NHBWHx6...</td>\n",
       "      <td>#000000</td>\n",
       "      <td>873,885</td>\n",
       "    </tr>\n",
       "    <tr>\n",
       "      <th>3</th>\n",
       "      <td>3</td>\n",
       "      <td>2022-04-01 17:38:30.511 UTC</td>\n",
       "      <td>v38Z0Pg8P1F/S4/nAorfoydMS22xObntvkHL9ohTwPfbHG...</td>\n",
       "      <td>#000000</td>\n",
       "      <td>396,79</td>\n",
       "    </tr>\n",
       "    <tr>\n",
       "      <th>4</th>\n",
       "      <td>4</td>\n",
       "      <td>2022-04-01 17:38:30.513 UTC</td>\n",
       "      <td>tYDDTJcCrJfpl8Xc4VSx+oybuZen2KXKaIIMVnqcWpTNFs...</td>\n",
       "      <td>#2450A4</td>\n",
       "      <td>937,960</td>\n",
       "    </tr>\n",
       "  </tbody>\n",
       "</table>\n",
       "</div>"
      ],
      "text/plain": [
       "   index                    timestamp  \\\n",
       "0      0  2022-04-01 17:38:30.498 UTC   \n",
       "1      1  2022-04-01 17:38:30.506 UTC   \n",
       "2      2  2022-04-01 17:38:30.508 UTC   \n",
       "3      3  2022-04-01 17:38:30.511 UTC   \n",
       "4      4  2022-04-01 17:38:30.513 UTC   \n",
       "\n",
       "                                             user_id pixel_color coordinate  \n",
       "0  9fGRoY1L5mjWkG9ccBMQVWzdZsuqGl+9SLfxgWjn6elFFZ...     #00A368    698,918  \n",
       "1  AisQ+8TPvQM33hB4gf7gmVhFS1N/EGlYICgmMt6zUsDfd0...     #000000     998,86  \n",
       "2  io9zeD2F8BKWWXCrEEoa/CwTX/8ir9qw8SsHPy3NHBWHx6...     #000000    873,885  \n",
       "3  v38Z0Pg8P1F/S4/nAorfoydMS22xObntvkHL9ohTwPfbHG...     #000000     396,79  \n",
       "4  tYDDTJcCrJfpl8Xc4VSx+oybuZen2KXKaIIMVnqcWpTNFs...     #2450A4    937,960  "
      ]
     },
     "execution_count": 93,
     "metadata": {},
     "output_type": "execute_result"
    }
   ],
   "source": [
    "tp = pd.read_sql('place78', engine)\n",
    "tp.head()"
   ]
  },
  {
   "cell_type": "code",
   "execution_count": 96,
   "metadata": {},
   "outputs": [],
   "source": [
    "tp = tp[tp[\"timestamp\"].str.contains('timestamp')==False]"
   ]
  },
  {
   "cell_type": "code",
   "execution_count": 97,
   "metadata": {},
   "outputs": [
    {
     "data": {
      "text/html": [
       "<div>\n",
       "<style scoped>\n",
       "    .dataframe tbody tr th:only-of-type {\n",
       "        vertical-align: middle;\n",
       "    }\n",
       "\n",
       "    .dataframe tbody tr th {\n",
       "        vertical-align: top;\n",
       "    }\n",
       "\n",
       "    .dataframe thead th {\n",
       "        text-align: right;\n",
       "    }\n",
       "</style>\n",
       "<table border=\"1\" class=\"dataframe\">\n",
       "  <thead>\n",
       "    <tr style=\"text-align: right;\">\n",
       "      <th></th>\n",
       "      <th>index</th>\n",
       "      <th>timestamp</th>\n",
       "      <th>user_id</th>\n",
       "      <th>pixel_color</th>\n",
       "      <th>coordinate</th>\n",
       "    </tr>\n",
       "  </thead>\n",
       "  <tbody>\n",
       "    <tr>\n",
       "      <th>0</th>\n",
       "      <td>0</td>\n",
       "      <td>2022-04-01 17:38:30.498 UTC</td>\n",
       "      <td>9fGRoY1L5mjWkG9ccBMQVWzdZsuqGl+9SLfxgWjn6elFFZ...</td>\n",
       "      <td>#00A368</td>\n",
       "      <td>698,918</td>\n",
       "    </tr>\n",
       "    <tr>\n",
       "      <th>1</th>\n",
       "      <td>1</td>\n",
       "      <td>2022-04-01 17:38:30.506 UTC</td>\n",
       "      <td>AisQ+8TPvQM33hB4gf7gmVhFS1N/EGlYICgmMt6zUsDfd0...</td>\n",
       "      <td>#000000</td>\n",
       "      <td>998,86</td>\n",
       "    </tr>\n",
       "    <tr>\n",
       "      <th>2</th>\n",
       "      <td>2</td>\n",
       "      <td>2022-04-01 17:38:30.508 UTC</td>\n",
       "      <td>io9zeD2F8BKWWXCrEEoa/CwTX/8ir9qw8SsHPy3NHBWHx6...</td>\n",
       "      <td>#000000</td>\n",
       "      <td>873,885</td>\n",
       "    </tr>\n",
       "    <tr>\n",
       "      <th>3</th>\n",
       "      <td>3</td>\n",
       "      <td>2022-04-01 17:38:30.511 UTC</td>\n",
       "      <td>v38Z0Pg8P1F/S4/nAorfoydMS22xObntvkHL9ohTwPfbHG...</td>\n",
       "      <td>#000000</td>\n",
       "      <td>396,79</td>\n",
       "    </tr>\n",
       "    <tr>\n",
       "      <th>4</th>\n",
       "      <td>4</td>\n",
       "      <td>2022-04-01 17:38:30.513 UTC</td>\n",
       "      <td>tYDDTJcCrJfpl8Xc4VSx+oybuZen2KXKaIIMVnqcWpTNFs...</td>\n",
       "      <td>#2450A4</td>\n",
       "      <td>937,960</td>\n",
       "    </tr>\n",
       "    <tr>\n",
       "      <th>...</th>\n",
       "      <td>...</td>\n",
       "      <td>...</td>\n",
       "      <td>...</td>\n",
       "      <td>...</td>\n",
       "      <td>...</td>\n",
       "    </tr>\n",
       "    <tr>\n",
       "      <th>1841529</th>\n",
       "      <td>1841529</td>\n",
       "      <td>2022-04-01 19:13:51.466 UTC</td>\n",
       "      <td>px5FC6rVyLaXYm6YVLDGRq9UCX17ZLA6ex20X25frBhZCr...</td>\n",
       "      <td>#FFFFFF</td>\n",
       "      <td>816,421</td>\n",
       "    </tr>\n",
       "    <tr>\n",
       "      <th>1841530</th>\n",
       "      <td>1841530</td>\n",
       "      <td>2022-04-01 19:13:51.468 UTC</td>\n",
       "      <td>G179m7nuLOTRSo/mfELFJFsZVjqD5lYiTf62xJURolrBDn...</td>\n",
       "      <td>#000000</td>\n",
       "      <td>630,909</td>\n",
       "    </tr>\n",
       "    <tr>\n",
       "      <th>1841531</th>\n",
       "      <td>1841531</td>\n",
       "      <td>2022-04-01 19:13:51.469 UTC</td>\n",
       "      <td>fis0q2E/RiecDZsQJWGVbi/UJPoymsYVjRW12v4A2NsJcI...</td>\n",
       "      <td>#000000</td>\n",
       "      <td>783,127</td>\n",
       "    </tr>\n",
       "    <tr>\n",
       "      <th>1841532</th>\n",
       "      <td>1841532</td>\n",
       "      <td>2022-04-01 19:13:51.472 UTC</td>\n",
       "      <td>D9NSW3Tkb0Y+4/mnvfJfI/0qZDJQXfaLY1cDkWnjFlAOen...</td>\n",
       "      <td>#FF4500</td>\n",
       "      <td>422,528</td>\n",
       "    </tr>\n",
       "    <tr>\n",
       "      <th>1841533</th>\n",
       "      <td>1841533</td>\n",
       "      <td>2022-04-01 19:13:51.476 UTC</td>\n",
       "      <td>iHRXNHTnEtdyq6b/jTeg7Oi7klPwzfvyse6tPgSHfigXcV...</td>\n",
       "      <td>#000000</td>\n",
       "      <td>202,777</td>\n",
       "    </tr>\n",
       "  </tbody>\n",
       "</table>\n",
       "<p>1841534 rows × 5 columns</p>\n",
       "</div>"
      ],
      "text/plain": [
       "           index                    timestamp  \\\n",
       "0              0  2022-04-01 17:38:30.498 UTC   \n",
       "1              1  2022-04-01 17:38:30.506 UTC   \n",
       "2              2  2022-04-01 17:38:30.508 UTC   \n",
       "3              3  2022-04-01 17:38:30.511 UTC   \n",
       "4              4  2022-04-01 17:38:30.513 UTC   \n",
       "...          ...                          ...   \n",
       "1841529  1841529  2022-04-01 19:13:51.466 UTC   \n",
       "1841530  1841530  2022-04-01 19:13:51.468 UTC   \n",
       "1841531  1841531  2022-04-01 19:13:51.469 UTC   \n",
       "1841532  1841532  2022-04-01 19:13:51.472 UTC   \n",
       "1841533  1841533  2022-04-01 19:13:51.476 UTC   \n",
       "\n",
       "                                                   user_id pixel_color  \\\n",
       "0        9fGRoY1L5mjWkG9ccBMQVWzdZsuqGl+9SLfxgWjn6elFFZ...     #00A368   \n",
       "1        AisQ+8TPvQM33hB4gf7gmVhFS1N/EGlYICgmMt6zUsDfd0...     #000000   \n",
       "2        io9zeD2F8BKWWXCrEEoa/CwTX/8ir9qw8SsHPy3NHBWHx6...     #000000   \n",
       "3        v38Z0Pg8P1F/S4/nAorfoydMS22xObntvkHL9ohTwPfbHG...     #000000   \n",
       "4        tYDDTJcCrJfpl8Xc4VSx+oybuZen2KXKaIIMVnqcWpTNFs...     #2450A4   \n",
       "...                                                    ...         ...   \n",
       "1841529  px5FC6rVyLaXYm6YVLDGRq9UCX17ZLA6ex20X25frBhZCr...     #FFFFFF   \n",
       "1841530  G179m7nuLOTRSo/mfELFJFsZVjqD5lYiTf62xJURolrBDn...     #000000   \n",
       "1841531  fis0q2E/RiecDZsQJWGVbi/UJPoymsYVjRW12v4A2NsJcI...     #000000   \n",
       "1841532  D9NSW3Tkb0Y+4/mnvfJfI/0qZDJQXfaLY1cDkWnjFlAOen...     #FF4500   \n",
       "1841533  iHRXNHTnEtdyq6b/jTeg7Oi7klPwzfvyse6tPgSHfigXcV...     #000000   \n",
       "\n",
       "        coordinate  \n",
       "0          698,918  \n",
       "1           998,86  \n",
       "2          873,885  \n",
       "3           396,79  \n",
       "4          937,960  \n",
       "...            ...  \n",
       "1841529    816,421  \n",
       "1841530    630,909  \n",
       "1841531    783,127  \n",
       "1841532    422,528  \n",
       "1841533    202,777  \n",
       "\n",
       "[1841534 rows x 5 columns]"
      ]
     },
     "execution_count": 97,
     "metadata": {},
     "output_type": "execute_result"
    }
   ],
   "source": [
    "tp.sort_values(by='timestamp').reset_index\n",
    "tp"
   ]
  },
  {
   "cell_type": "code",
   "execution_count": 98,
   "metadata": {},
   "outputs": [],
   "source": [
    "tp[\"user_id\"] = tp[\"user_id\"].astype(\"category\")\n",
    "tp[\"timestamp\"] = pd.to_datetime(tp[\"timestamp\"])\n",
    "#runTime = 3m 52s"
   ]
  },
  {
   "cell_type": "code",
   "execution_count": 99,
   "metadata": {},
   "outputs": [
    {
     "data": {
      "text/plain": [
       "Index           14732272\n",
       "index           14732272\n",
       "timestamp       14732272\n",
       "user_id        110402869\n",
       "pixel_color    117858176\n",
       "coordinate     117444240\n",
       "dtype: int64"
      ]
     },
     "execution_count": 99,
     "metadata": {},
     "output_type": "execute_result"
    }
   ],
   "source": [
    "tp.memory_usage(deep=True)"
   ]
  },
  {
   "cell_type": "code",
   "execution_count": null,
   "metadata": {},
   "outputs": [],
   "source": []
  },
  {
   "cell_type": "markdown",
   "metadata": {},
   "source": [
    "<h1><center>BELOW IS IMAGING<h1><center>"
   ]
  },
  {
   "cell_type": "code",
   "execution_count": 100,
   "metadata": {},
   "outputs": [
    {
     "data": {
      "text/plain": [
       "0    (0, 163, 104)\n",
       "1        (0, 0, 0)\n",
       "2        (0, 0, 0)\n",
       "3        (0, 0, 0)\n",
       "4    (36, 80, 164)\n",
       "Name: hex, dtype: object"
      ]
     },
     "execution_count": 100,
     "metadata": {},
     "output_type": "execute_result"
    }
   ],
   "source": [
    "#litereally nothing was accomplished -_- 4 hours...\n",
    "\n",
    "tp.rename({'timestamp': 'ts', 'pixel_color' : 'color'}, axis=1, inplace=True)\n",
    "tp = tp.sort_values(by='ts').reset_index(drop=True)\n",
    "#tp['ts'] = pd.to_numeric(tp.ts)\n",
    "tp[['x_coordinate','y_coordinate']] = tp.coordinate.str.split(\",\",expand=True)\n",
    "tp[\"x_coordinate\"] = pd.to_numeric(tp[\"x_coordinate\"])\n",
    "tp[\"y_coordinate\"] = pd.to_numeric(tp[\"y_coordinate\"])\n",
    "tp = tp.drop(columns=['coordinate'], axis=1)\n",
    "tp['x_coordinate'] = tp['x_coordinate'].astype(np.int64)\n",
    "tp['y_coordinate'] = tp['y_coordinate'].astype(np.int64)\n",
    "#tp['ts'] = tp['ts'].astype(float)\n",
    "tp = tp.rename(columns={'color':'hex'})\n",
    "tp.head()\n",
    "temp = tp['hex']\n",
    "\n",
    "def hex_to_rgb(hexColor):\n",
    "    \"\"\"Return color as #rrggbb for the given color values.\"\"\"\n",
    "    return ImageColor.getcolor(hexColor, \"RGB\")\n",
    "\n",
    "\n",
    "rgb = rgb=temp.apply(lambda hexColor: hex_to_rgb(hexColor))"
   ]
  },
  {
   "cell_type": "code",
   "execution_count": 101,
   "metadata": {},
   "outputs": [
    {
     "data": {
      "text/html": [
       "<div>\n",
       "<style scoped>\n",
       "    .dataframe tbody tr th:only-of-type {\n",
       "        vertical-align: middle;\n",
       "    }\n",
       "\n",
       "    .dataframe tbody tr th {\n",
       "        vertical-align: top;\n",
       "    }\n",
       "\n",
       "    .dataframe thead th {\n",
       "        text-align: right;\n",
       "    }\n",
       "</style>\n",
       "<table border=\"1\" class=\"dataframe\">\n",
       "  <thead>\n",
       "    <tr style=\"text-align: right;\">\n",
       "      <th></th>\n",
       "      <th>index</th>\n",
       "      <th>ts</th>\n",
       "      <th>user_id</th>\n",
       "      <th>hex</th>\n",
       "      <th>x_coordinate</th>\n",
       "      <th>y_coordinate</th>\n",
       "      <th>rgb</th>\n",
       "    </tr>\n",
       "  </thead>\n",
       "  <tbody>\n",
       "    <tr>\n",
       "      <th>0</th>\n",
       "      <td>0</td>\n",
       "      <td>2022-04-01 17:38:30.498000+00:00</td>\n",
       "      <td>9fGRoY1L5mjWkG9ccBMQVWzdZsuqGl+9SLfxgWjn6elFFZ...</td>\n",
       "      <td>#00A368</td>\n",
       "      <td>698</td>\n",
       "      <td>918</td>\n",
       "      <td>(0, 163, 104)</td>\n",
       "    </tr>\n",
       "    <tr>\n",
       "      <th>1</th>\n",
       "      <td>1</td>\n",
       "      <td>2022-04-01 17:38:30.506000+00:00</td>\n",
       "      <td>AisQ+8TPvQM33hB4gf7gmVhFS1N/EGlYICgmMt6zUsDfd0...</td>\n",
       "      <td>#000000</td>\n",
       "      <td>998</td>\n",
       "      <td>86</td>\n",
       "      <td>(0, 0, 0)</td>\n",
       "    </tr>\n",
       "    <tr>\n",
       "      <th>2</th>\n",
       "      <td>2</td>\n",
       "      <td>2022-04-01 17:38:30.508000+00:00</td>\n",
       "      <td>io9zeD2F8BKWWXCrEEoa/CwTX/8ir9qw8SsHPy3NHBWHx6...</td>\n",
       "      <td>#000000</td>\n",
       "      <td>873</td>\n",
       "      <td>885</td>\n",
       "      <td>(0, 0, 0)</td>\n",
       "    </tr>\n",
       "    <tr>\n",
       "      <th>3</th>\n",
       "      <td>3</td>\n",
       "      <td>2022-04-01 17:38:30.511000+00:00</td>\n",
       "      <td>v38Z0Pg8P1F/S4/nAorfoydMS22xObntvkHL9ohTwPfbHG...</td>\n",
       "      <td>#000000</td>\n",
       "      <td>396</td>\n",
       "      <td>79</td>\n",
       "      <td>(0, 0, 0)</td>\n",
       "    </tr>\n",
       "    <tr>\n",
       "      <th>4</th>\n",
       "      <td>4</td>\n",
       "      <td>2022-04-01 17:38:30.513000+00:00</td>\n",
       "      <td>tYDDTJcCrJfpl8Xc4VSx+oybuZen2KXKaIIMVnqcWpTNFs...</td>\n",
       "      <td>#2450A4</td>\n",
       "      <td>937</td>\n",
       "      <td>960</td>\n",
       "      <td>(36, 80, 164)</td>\n",
       "    </tr>\n",
       "  </tbody>\n",
       "</table>\n",
       "</div>"
      ],
      "text/plain": [
       "   index                               ts  \\\n",
       "0      0 2022-04-01 17:38:30.498000+00:00   \n",
       "1      1 2022-04-01 17:38:30.506000+00:00   \n",
       "2      2 2022-04-01 17:38:30.508000+00:00   \n",
       "3      3 2022-04-01 17:38:30.511000+00:00   \n",
       "4      4 2022-04-01 17:38:30.513000+00:00   \n",
       "\n",
       "                                             user_id      hex  x_coordinate  \\\n",
       "0  9fGRoY1L5mjWkG9ccBMQVWzdZsuqGl+9SLfxgWjn6elFFZ...  #00A368           698   \n",
       "1  AisQ+8TPvQM33hB4gf7gmVhFS1N/EGlYICgmMt6zUsDfd0...  #000000           998   \n",
       "2  io9zeD2F8BKWWXCrEEoa/CwTX/8ir9qw8SsHPy3NHBWHx6...  #000000           873   \n",
       "3  v38Z0Pg8P1F/S4/nAorfoydMS22xObntvkHL9ohTwPfbHG...  #000000           396   \n",
       "4  tYDDTJcCrJfpl8Xc4VSx+oybuZen2KXKaIIMVnqcWpTNFs...  #2450A4           937   \n",
       "\n",
       "   y_coordinate            rgb  \n",
       "0           918  (0, 163, 104)  \n",
       "1            86      (0, 0, 0)  \n",
       "2           885      (0, 0, 0)  \n",
       "3            79      (0, 0, 0)  \n",
       "4           960  (36, 80, 164)  "
      ]
     },
     "execution_count": 101,
     "metadata": {},
     "output_type": "execute_result"
    }
   ],
   "source": [
    "rgb = pd.DataFrame(rgb)\n",
    "temp = tp\n",
    "temp = temp.rename(columns={'hex':'hex1'})\n",
    "temp = pd.concat([temp, rgb], axis=1)\n",
    "temp = temp.rename(columns={'hex':'rgb'})\n",
    "temp = temp.rename(columns={'hex1':'hex'})\n",
    "tp = temp #I DON'T KNOW WHY I HAVE TO DO THIS BS BUT IT'S THE ONLY WAY THIS WORKS ??????????????\n",
    "tp.head()"
   ]
  },
  {
   "cell_type": "code",
   "execution_count": 102,
   "metadata": {},
   "outputs": [],
   "source": [
    "def place_at_timestamp(tp, ts):\n",
    "    \"\"\"\n",
    "    Uses the raw data source to construct a dataset representing the state of r/Place at the\n",
    "    given UNIX timestamp.\n",
    "    \"\"\"\n",
    "    pivot = np.argmin(tp['ts'] < ts)\n",
    "    history = tp.iloc[:pivot]\n",
    "    return history\n",
    "\n",
    "\n",
    "def construct_image_matrix(tiles):\n",
    "    \"\"\"\n",
    "    Given the tile data provided by the `place_at_timestamp` function, returns r/Place at that time\n",
    "    as a matrix.\n",
    "    \"\"\"\n",
    "    mat = np.zeros((2001, 2001, 3))\n",
    "    mat.fill(255)\n",
    "    for coord, val in zip(tiles.values[:, 3:5], tiles.values[:, 5]):\n",
    "        mat[coord[1], coord[0]] = val\n",
    "    return mat\n"
   ]
  },
  {
   "cell_type": "code",
   "execution_count": 103,
   "metadata": {},
   "outputs": [
    {
     "name": "stdout",
     "output_type": "stream",
     "text": [
      "9208\n"
     ]
    }
   ],
   "source": [
    "tp_length =  len(tp.index)\n",
    "splits = round(tp_length / 200)\n",
    "print(splits)\n",
    "x = 0\n",
    "count = 0\n",
    "\n",
    "while x <= 200:\n",
    "    pic = \"imgPlace\"+str(tp['ts'].iloc[count])\n",
    "    fig = plt.figure(figsize=(200, 200))\n",
    "    plt.imshow(construct_image_matrix(place_at_timestamp(tp, tp['ts'].iloc[count])))\n",
    "    count += splits\n",
    "    x += 1\n",
    "    #plt.close(fig)\n",
    "    plt.savefig(\"C:\\\\Users\\\\danie\\\\Desktop\\\\Coding\\\\r-place\\\\2\\\\img\\\\\"+pic)\n",
    "    plt.axis('off')\n"
   ]
  },
  {
   "cell_type": "code",
   "execution_count": null,
   "metadata": {},
   "outputs": [],
   "source": []
  },
  {
   "cell_type": "code",
   "execution_count": 110,
   "metadata": {},
   "outputs": [],
   "source": [
    "df = pn.state.cache['data'] = tp.copy()"
   ]
  },
  {
   "cell_type": "code",
   "execution_count": 113,
   "metadata": {},
   "outputs": [
    {
     "data": {
      "image/png": "[encoded data removed]",
      "text/plain": [
       "<Figure size 1440x1440 with 1 Axes>"
      ]
     },
     "metadata": {
      "needs_background": "light"
     },
     "output_type": "display_data"
    }
   ],
   "source": [
    "hist,_,_ = np.histogram2d(df['x_coordinate'], df['y_coordinate'], bins=(2000,2000))\n",
    "\n",
    "# show heatmap by plt\n",
    "# you can use plt to save the figure\n",
    "fig = plt.figure(figsize=(20,20))\n",
    "plt.imshow(hist,cmap='hot')\n",
    "plt.axis('off')\n",
    "plt.show()"
   ]
  }
 ],
 "metadata": {
  "interpreter": {
   "hash": "b89b5cfaba6639976dc87ff2fec6d58faec662063367e2c229c520fe71072417"
  },
  "kernelspec": {
   "display_name": "Python 3.10.2 64-bit",
   "language": "python",
   "name": "python3"
  },
  "language_info": {
   "codemirror_mode": {
    "name": "ipython",
    "version": 3
   },
   "file_extension": ".py",
   "mimetype": "text/x-python",
   "name": "python",
   "nbconvert_exporter": "python",
   "pygments_lexer": "ipython3",
   "version": "3.9.6"
  },
  "orig_nbformat": 4
 },
 "nbformat": 4,
 "nbformat_minor": 2
}
